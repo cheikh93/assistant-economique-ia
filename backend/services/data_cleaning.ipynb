{
 "cells": [
  {
   "cell_type": "code",
   "execution_count": 7,
   "id": "8879d8f0-a08f-4f60-9c2e-80d4e178d53f",
   "metadata": {},
   "outputs": [
    {
     "name": "stdout",
     "output_type": "stream",
     "text": [
      "✅ Données nettoyées. Aperçu :\n",
      "                                             Produit          Flux       Date  \\\n",
      "0                                    ANIMAUX VIVANTS  Exportations 2010-01-01   \n",
      "1                       VIANDES ET ABATS COMESTIBLES  Exportations 2010-01-01   \n",
      "2  POISSONS ET CRUSTACES, MOLLUSQUES ET AUTRES IN...  Exportations 2010-01-01   \n",
      "3  LAIT; OEUFS D'OISEAUX; MIEL; PRODUITS COMESTIB...  Exportations 2010-01-01   \n",
      "4  AUTRES PRODUITS D'ORIGINE ANIMALE, NON DENOMME...  Exportations 2010-01-01   \n",
      "\n",
      "        Montant  Année  \n",
      "0  1.153389e+07   2010  \n",
      "1  1.941858e+07   2010  \n",
      "2  8.254505e+09   2010  \n",
      "3  3.880829e+08   2010  \n",
      "4  3.535798e+08   2010  \n"
     ]
    }
   ],
   "source": [
    "import pandas as pd\n",
    "import os\n",
    "\n",
    "# ✅ Utilisation de chemins relatifs professionnels\n",
    "DATA_PATH = os.path.join(\"..\", \"..\", \"data\", \"donnees_brutes.csv\")\n",
    "OUTPUT_PATH = os.path.join(\"..\", \"..\", \"data\", \"donnees_nettoyees.csv\")\n",
    "\n",
    "def nettoyer_donnees():\n",
    "    \"\"\"\n",
    "    Charge le fichier brut, nettoie les valeurs manquantes,\n",
    "    extrait l'année, et exporte le fichier nettoyé.\n",
    "    \"\"\"\n",
    "    df = pd.read_csv(DATA_PATH)\n",
    "\n",
    "    # 1. Nettoyage des colonnes critiques\n",
    "    colonnes_essentielles = [\"Produit\", \"Flux\", \"Date\"]\n",
    "    df = df.dropna(subset=colonnes_essentielles)\n",
    "\n",
    "    # 2. Traitement des valeurs manquantes pour 'Montant'\n",
    "    if df[\"Montant\"].isna().sum() > 0:\n",
    "        mediane_montant = df[\"Montant\"].median()\n",
    "        df.loc[:, \"Montant\"] = df[\"Montant\"].fillna(mediane_montant)\n",
    "\n",
    "    # 3. Nettoyage et conversion des dates\n",
    "    df[\"Date\"] = pd.to_datetime(df[\"Date\"], errors=\"coerce\")\n",
    "    df = df.dropna(subset=[\"Date\"])\n",
    "    df[\"Année\"] = df[\"Date\"].dt.year\n",
    "\n",
    "    # 4. Export du fichier nettoyé\n",
    "    df.to_csv(OUTPUT_PATH, index=False, encoding=\"utf-8-sig\")\n",
    "    return df\n",
    "\n",
    "if __name__ == \"__main__\":\n",
    "    df_resultat = nettoyer_donnees()\n",
    "    print(\"✅ Données nettoyées. Aperçu :\")\n",
    "    print(df_resultat.head())\n"
   ]
  },
  {
   "cell_type": "code",
   "execution_count": null,
   "id": "fdecf8e5-da34-427e-9b8c-b531de9c0b3e",
   "metadata": {},
   "outputs": [],
   "source": []
  }
 ],
 "metadata": {
  "kernelspec": {
   "display_name": "Python (venvflux)",
   "language": "python",
   "name": "venvflux"
  },
  "language_info": {
   "codemirror_mode": {
    "name": "ipython",
    "version": 3
   },
   "file_extension": ".py",
   "mimetype": "text/x-python",
   "name": "python",
   "nbconvert_exporter": "python",
   "pygments_lexer": "ipython3",
   "version": "3.11.7"
  }
 },
 "nbformat": 4,
 "nbformat_minor": 5
}
