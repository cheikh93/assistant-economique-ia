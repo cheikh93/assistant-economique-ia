{
 "cells": [
  {
   "cell_type": "code",
   "execution_count": null,
   "id": "1bc69926-f5ca-4ef1-9e64-1cef51f3c9dd",
   "metadata": {},
   "outputs": [],
   "source": [
    "import sys\n",
    "import os\n",
    "\n",
    "# ✅ Gestion du chemin pour compatibilité Jupyter ET Streamlit\n",
    "try:\n",
    "    base_dir = os.path.abspath(os.path.join(os.path.dirname(__file__), \"../..\"))\n",
    "except NameError:\n",
    "    base_dir = os.path.abspath(os.path.join(os.getcwd(), \"../..\"))\n",
    "\n",
    "if base_dir not in sys.path:\n",
    "    sys.path.insert(0, base_dir)\n",
    "\n",
    "import streamlit as st\n",
    "from backend.services.chatbot import poser_question_llm\n",
    "import pandas as pd\n",
    "from datetime import datetime\n",
    "\n",
    "# 📁 Fichier de log\n",
    "LOG_PATH = os.path.join(base_dir, \"outputs\", \"logs\", \"questions_log.csv\")\n",
    "os.makedirs(os.path.dirname(LOG_PATH), exist_ok=True)\n",
    "\n",
    "# 🧠 Interface\n",
    "st.set_page_config(page_title=\"🤖 Chatbot IA Sénégal\", page_icon=\"🤖\")\n",
    "st.title(\"🤖 Assistant Économique - Sénégal\")\n",
    "\n",
    "question = st.text_input(\"Pose ta question sur les échanges commerciaux du Sénégal :\")\n",
    "\n",
    "if st.button(\"Envoyer\") and question:\n",
    "    with st.spinner(\"Analyse des données...\"):\n",
    "        reponse = poser_question_llm(question)\n",
    "\n",
    "    # 📝 Affichage réponse\n",
    "    st.markdown(\"### 💬 Réponse :\")\n",
    "    st.success(reponse)\n",
    "\n",
    "    # 🗃️ Log question/réponse\n",
    "    log_data = pd.DataFrame([[datetime.now(), question, reponse]], columns=[\"datetime\", \"question\", \"reponse\"])\n",
    "    if os.path.exists(LOG_PATH):\n",
    "        log_data.to_csv(LOG_PATH, mode=\"a\", header=False, index=False)\n",
    "    else:\n",
    "        log_data.to_csv(LOG_PATH, index=False)\n",
    "\n",
    "# 📊 Historique optionnel\n",
    "if st.checkbox(\"Afficher l'historique des questions\"):\n",
    "    if os.path.exists(LOG_PATH):\n",
    "        historique = pd.read_csv(LOG_PATH)\n",
    "        st.dataframe(historique.tail(10))\n",
    "    else:\n",
    "        st.info(\"Aucune question posée pour le moment.\")\n"
   ]
  },
  {
   "cell_type": "code",
   "execution_count": null,
   "id": "bff47f94-8b39-4479-b08c-34982f8650dd",
   "metadata": {},
   "outputs": [],
   "source": []
  }
 ],
 "metadata": {
  "kernelspec": {
   "display_name": "Python (venvflux)",
   "language": "python",
   "name": "venvflux"
  },
  "language_info": {
   "codemirror_mode": {
    "name": "ipython",
    "version": 3
   },
   "file_extension": ".py",
   "mimetype": "text/x-python",
   "name": "python",
   "nbconvert_exporter": "python",
   "pygments_lexer": "ipython3",
   "version": "3.11.7"
  }
 },
 "nbformat": 4,
 "nbformat_minor": 5
}
