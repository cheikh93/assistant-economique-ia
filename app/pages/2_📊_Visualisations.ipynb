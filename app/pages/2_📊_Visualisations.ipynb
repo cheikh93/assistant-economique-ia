{
 "cells": [
  {
   "cell_type": "code",
   "execution_count": 1,
   "id": "fc9fb817-dc71-4da5-9801-248afa0b6724",
   "metadata": {},
   "outputs": [
    {
     "name": "stdout",
     "output_type": "stream",
     "text": [
      "✅ Visuels générés dans /data/visuels\n"
     ]
    }
   ],
   "source": [
    "import pandas as pd\n",
    "import plotly.express as px\n",
    "import os\n",
    "\n",
    "# ✅ Chemin relatif depuis app/pages/ vers data\n",
    "DATA_PATH = os.path.join(\"..\", \"..\", \"data\", \"donnees_nettoyees.csv\")\n",
    "VISUELS_PATH = os.path.join(\"..\", \"..\", \"data\", \"visuels\")\n",
    "os.makedirs(VISUELS_PATH, exist_ok=True)\n",
    "\n",
    "def afficher_visualisations():\n",
    "    df = pd.read_csv(DATA_PATH)\n",
    "\n",
    "    annees = sorted(df[\"Année\"].dropna().unique())\n",
    "    flux = df[\"Flux\"].dropna().unique()\n",
    "\n",
    "    # ✅ Par défaut, utiliser la dernière année disponible et \"Export\"\n",
    "    annee_selectionnee = annees[-1]\n",
    "    flux_selectionne = \"Export\" if \"Export\" in flux else flux[0]\n",
    "\n",
    "    df_filtre = df[(df[\"Année\"] == annee_selectionnee) & (df[\"Flux\"] == flux_selectionne)]\n",
    "\n",
    "    top_produits = (\n",
    "        df_filtre.groupby(\"Produit\")[\"Montant\"]\n",
    "        .sum()\n",
    "        .sort_values(ascending=False)\n",
    "        .head(10)\n",
    "        .reset_index()\n",
    "    )\n",
    "\n",
    "    fig = px.bar(top_produits, x=\"Montant\", y=\"Produit\", orientation=\"h\",\n",
    "                 title=f\"Top 10 Produits ({flux_selectionne}) en {annee_selectionnee}\",\n",
    "                 labels={\"Montant\": \"Montant (FCFA)\", \"Produit\": \"Produit\"})\n",
    "    fig.write_image(os.path.join(VISUELS_PATH, \"top_produits.png\"))\n",
    "\n",
    "    evolution = df.groupby([\"Année\", \"Flux\"])[\"Montant\"].sum().reset_index()\n",
    "    fig2 = px.line(evolution, x=\"Année\", y=\"Montant\", color=\"Flux\",\n",
    "                   markers=True, title=\"Évolution des flux commerciaux par année\")\n",
    "    fig2.write_image(os.path.join(VISUELS_PATH, \"evolution_flux.png\"))\n",
    "\n",
    "if __name__ == \"__main__\":\n",
    "    afficher_visualisations()\n",
    "    print(\"✅ Visuels générés dans /data/visuels\")\n"
   ]
  },
  {
   "cell_type": "code",
   "execution_count": null,
   "id": "d2ef9aac-e773-4eef-80d6-6cfbac5d368f",
   "metadata": {},
   "outputs": [],
   "source": []
  },
  {
   "cell_type": "code",
   "execution_count": null,
   "id": "5025e88b-42ec-4915-8832-f1d9c40cb7d3",
   "metadata": {},
   "outputs": [],
   "source": []
  }
 ],
 "metadata": {
  "kernelspec": {
   "display_name": "Python (venvflux)",
   "language": "python",
   "name": "venvflux"
  },
  "language_info": {
   "codemirror_mode": {
    "name": "ipython",
    "version": 3
   },
   "file_extension": ".py",
   "mimetype": "text/x-python",
   "name": "python",
   "nbconvert_exporter": "python",
   "pygments_lexer": "ipython3",
   "version": "3.11.7"
  }
 },
 "nbformat": 4,
 "nbformat_minor": 5
}
