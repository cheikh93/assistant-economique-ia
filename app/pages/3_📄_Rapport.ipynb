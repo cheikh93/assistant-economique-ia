{
 "cells": [
  {
   "cell_type": "code",
   "execution_count": null,
   "id": "3d6f9d37-8cbb-4923-96b4-610d9681518e",
   "metadata": {},
   "outputs": [],
   "source": [
    "import streamlit as st\n",
    "import os\n",
    "import sys\n",
    "\n",
    "try:\n",
    "    base_dir = os.path.abspath(os.path.join(os.path.dirname(__file__), \"../..\"))\n",
    "except NameError:\n",
    "    base_dir = os.path.abspath(os.path.join(os.getcwd(), \"../..\"))\n",
    "\n",
    "if base_dir not in sys.path:\n",
    "    sys.path.insert(0, base_dir)\n",
    "\n",
    "from backend.services.report_generator import generer_rapport_depuis_resume\n",
    "\n",
    "st.set_page_config(page_title=\"📄 Génération du Rapport\", page_icon=\"📄\")\n",
    "\n",
    "st.title(\"📄 Génération automatique du rapport économique\")\n",
    "\n",
    "resume_path = os.path.join(base_dir, \"data\", \"resume_donnees.txt\")\n",
    "\n",
    "if st.button(\"Générer le rapport\"):\n",
    "    if not os.path.exists(resume_path):\n",
    "        st.error(\"❌ Fichier de résumé introuvable.\")\n",
    "    else:\n",
    "        docx, pdf = generer_rapport_depuis_resume(resume_path)\n",
    "        st.success(\"✅ Rapport généré avec succès !\")\n",
    "        st.markdown(f\"[📄 Télécharger DOCX]({docx})\", unsafe_allow_html=True)\n",
    "        if pdf:\n",
    "            st.markdown(f\"[📄 Télécharger PDF]({pdf})\", unsafe_allow_html=True)\n"
   ]
  }
 ],
 "metadata": {
  "kernelspec": {
   "display_name": "Python (venvflux)",
   "language": "python",
   "name": "venvflux"
  },
  "language_info": {
   "codemirror_mode": {
    "name": "ipython",
    "version": 3
   },
   "file_extension": ".py",
   "mimetype": "text/x-python",
   "name": "python",
   "nbconvert_exporter": "python",
   "pygments_lexer": "ipython3",
   "version": "3.11.7"
  }
 },
 "nbformat": 4,
 "nbformat_minor": 5
}
