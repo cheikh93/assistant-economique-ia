{
 "cells": [
  {
   "cell_type": "code",
   "execution_count": null,
   "id": "620dc909-e88a-48c5-b59f-e6e710481dc2",
   "metadata": {},
   "outputs": [],
   "source": [
    "import streamlit as st\n",
    "\n",
    "st.set_page_config(\n",
    "    page_title=\"Assistant Éco Sénégal\",\n",
    "    page_icon=\"🇸🇳\",\n",
    "    layout=\"wide\"\n",
    ")\n",
    "\n",
    "with st.sidebar:\n",
    "    st.image(\"https://upload.wikimedia.org/wikipedia/commons/thumb/9/92/Flag_of_Senegal.svg/640px-Flag_of_Senegal.svg.png\", width=80)\n",
    "    st.title(\"📚 Navigation\")\n",
    "    st.page_link(\"pages/1_📂_Nettoyage.py\", label=\"Nettoyage\", icon=\"🧹\")\n",
    "    st.page_link(\"pages/2_📊_Visualisations.py\", label=\"Visualisations\", icon=\"📈\")\n",
    "    st.page_link(\"pages/3_📄_Rapport.py\", label=\"Rapport\", icon=\"📄\")\n",
    "    st.page_link(\"pages/4_🤖_Chatbot.py\", label=\"Chatbot\", icon=\"🤖\")\n",
    "\n",
    "st.title(\"🇸🇳 Assistant Économique du Sénégal\")\n",
    "st.subheader(\"Bienvenue dans votre tableau de bord interactif\")\n",
    "st.write(\"\"\"\n",
    "Ce tableau de bord vous permet :\n",
    "- 🧹 de nettoyer vos données\n",
    "- 📊 de les visualiser\n",
    "- 📄 de générer un rapport\n",
    "- 🤖 de poser des questions en langage naturel\n",
    "\n",
    "👈 Utilisez la barre latérale pour commencer.\n",
    "\"\"\")\n",
    "\n",
    "st.success(\"✅ Interface complète prête à l’emploi.\")\n"
   ]
  }
 ],
 "metadata": {
  "kernelspec": {
   "display_name": "Python (venvflux)",
   "language": "python",
   "name": "venvflux"
  },
  "language_info": {
   "codemirror_mode": {
    "name": "ipython",
    "version": 3
   },
   "file_extension": ".py",
   "mimetype": "text/x-python",
   "name": "python",
   "nbconvert_exporter": "python",
   "pygments_lexer": "ipython3",
   "version": "3.11.7"
  }
 },
 "nbformat": 4,
 "nbformat_minor": 5
}
