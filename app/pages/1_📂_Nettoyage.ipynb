{
 "cells": [
  {
   "cell_type": "code",
   "execution_count": 1,
   "id": "cfbc14f7-1629-40fe-a632-aca32c1ffe14",
   "metadata": {},
   "outputs": [
    {
     "name": "stderr",
     "output_type": "stream",
     "text": [
      "2025-04-23 15:17:12.602 WARNING streamlit.runtime.scriptrunner_utils.script_run_context: Thread 'MainThread': missing ScriptRunContext! This warning can be ignored when running in bare mode.\n",
      "2025-04-23 15:17:12.603 WARNING streamlit.runtime.scriptrunner_utils.script_run_context: Thread 'MainThread': missing ScriptRunContext! This warning can be ignored when running in bare mode.\n",
      "2025-04-23 15:17:13.095 \n",
      "  \u001b[33m\u001b[1mWarning:\u001b[0m to view this Streamlit app on a browser, run it with the following\n",
      "  command:\n",
      "\n",
      "    streamlit run C:\\Users\\G_Fatma_Tech\\analyste-virtuel-senegal\\venvflux\\Lib\\site-packages\\ipykernel_launcher.py [ARGUMENTS]\n",
      "2025-04-23 15:17:13.096 Thread 'MainThread': missing ScriptRunContext! This warning can be ignored when running in bare mode.\n",
      "2025-04-23 15:17:13.097 Thread 'MainThread': missing ScriptRunContext! This warning can be ignored when running in bare mode.\n",
      "2025-04-23 15:17:13.097 Thread 'MainThread': missing ScriptRunContext! This warning can be ignored when running in bare mode.\n",
      "2025-04-23 15:17:13.099 Thread 'MainThread': missing ScriptRunContext! This warning can be ignored when running in bare mode.\n",
      "2025-04-23 15:17:13.100 Thread 'MainThread': missing ScriptRunContext! This warning can be ignored when running in bare mode.\n",
      "2025-04-23 15:17:13.100 Thread 'MainThread': missing ScriptRunContext! This warning can be ignored when running in bare mode.\n",
      "2025-04-23 15:17:13.101 Thread 'MainThread': missing ScriptRunContext! This warning can be ignored when running in bare mode.\n",
      "2025-04-23 15:17:13.103 Thread 'MainThread': missing ScriptRunContext! This warning can be ignored when running in bare mode.\n"
     ]
    },
    {
     "data": {
      "text/plain": [
       "DeltaGenerator()"
      ]
     },
     "execution_count": 1,
     "metadata": {},
     "output_type": "execute_result"
    }
   ],
   "source": [
    "import streamlit as st\n",
    "import os\n",
    "import sys\n",
    "\n",
    "# 📁 Chemin vers le projet\n",
    "try:\n",
    "    base_dir = os.path.abspath(os.path.join(os.path.dirname(__file__), \"../..\"))\n",
    "except NameError:\n",
    "    base_dir = os.path.abspath(os.path.join(os.getcwd(), \"../..\"))\n",
    "\n",
    "if base_dir not in sys.path:\n",
    "    sys.path.insert(0, base_dir)\n",
    "\n",
    "from backend.services.data_cleaning import nettoyer_donnees\n",
    "\n",
    "st.set_page_config(page_title=\"🧹 Nettoyage des Données\", page_icon=\"🧹\")\n",
    "\n",
    "st.title(\"🧹 Nettoyage des données brutes\")\n",
    "\n",
    "if st.button(\"Lancer le nettoyage\"):\n",
    "    df = nettoyer_donnees()\n",
    "    st.success(\"✅ Données nettoyées avec succès !\")\n",
    "    st.dataframe(df.head())\n",
    "\n",
    "st.markdown(\"Ce module permet de transformer les données brutes en un fichier nettoyé prêt à l'analyse.\")\n"
   ]
  },
  {
   "cell_type": "code",
   "execution_count": null,
   "id": "be889aa9-32a2-41ee-90d8-a1a44dcad38c",
   "metadata": {},
   "outputs": [],
   "source": []
  }
 ],
 "metadata": {
  "kernelspec": {
   "display_name": "Python (venvflux)",
   "language": "python",
   "name": "venvflux"
  },
  "language_info": {
   "codemirror_mode": {
    "name": "ipython",
    "version": 3
   },
   "file_extension": ".py",
   "mimetype": "text/x-python",
   "name": "python",
   "nbconvert_exporter": "python",
   "pygments_lexer": "ipython3",
   "version": "3.11.7"
  }
 },
 "nbformat": 4,
 "nbformat_minor": 5
}
